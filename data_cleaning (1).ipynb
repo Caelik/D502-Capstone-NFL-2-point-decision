{
  "metadata": {
    "kernelspec": {
      "name": "python",
      "display_name": "Python (Pyodide)",
      "language": "python"
    },
    "language_info": {
      "codemirror_mode": {
        "name": "python",
        "version": 3
      },
      "file_extension": ".py",
      "mimetype": "text/x-python",
      "name": "python",
      "nbconvert_exporter": "python",
      "pygments_lexer": "ipython3",
      "version": "3.8"
    }
  },
  "nbformat_minor": 4,
  "nbformat": 4,
  "cells": [
    {
      "cell_type": "markdown",
      "source": "# Project: Does it make statistical sense to go for a 2-pt conversion over a Point-After-Touchdown(PAT) in the NFL?\n\n## Introduction\nThe 2-point conversion was first introduced to the NFL in 1994, though a variant had been used earlier in the AFL before the leagues merged. The rule remained largely unchanged until the 2015 season when the NFL moved the PAT (Point-After-Touchdown) attempt from the 2-yard line back to the 15-yard line. This adjustment made the PAT less of a \"sure thing\" and led to an increase in 2-point conversion attempts. The most recent change occurred ahead of the 2023 season when the NFL moved the 2-point conversion attempt from the 2-yard line to the 1-yard line. This modification is the focus of our data analysis.\n\n### Question: What is the success rate of 2-pt conversions compared to PATs since the NFL changed the rule for 2-pt conversions leading into the 2023 season?\n\nThe dataset that I will be working from was downloaded from nfl.com. Specifically the scoring data for all teams in the 2023 and 2024 seasons. \n\nI will be combining the seasons based on the team name. This shouldn't have a negative affect on the data and it allows it to be more readable.",
      "metadata": {}
    },
    {
      "cell_type": "code",
      "source": "%pip install numpy matplotlib seaborn",
      "metadata": {
        "trusted": true
      },
      "outputs": [],
      "execution_count": 1
    },
    {
      "cell_type": "code",
      "source": "# Importing packages that I will use\nimport pandas as pd\nimport numpy as np\nimport matplotlib.pyplot as plt\nimport seaborn as sns\n\n\n# Allow us to plot visualizations inline with the notebook\n%matplotlib inline",
      "metadata": {
        "trusted": true
      },
      "outputs": [
        {
          "name": "stderr",
          "text": "<ipython-input-2-cbbfd76978f5>:2: DeprecationWarning: \nPyarrow will become a required dependency of pandas in the next major release of pandas (pandas 3.0),\n(to allow more performant data types, such as the Arrow string type, and better interoperability with other libraries)\nbut was not found to be installed on your system.\nIf this would cause problems for you,\nplease provide us feedback at https://github.com/pandas-dev/pandas/issues/54466\n        \n  import pandas as pd\n",
          "output_type": "stream"
        }
      ],
      "execution_count": 2
    },
    {
      "cell_type": "markdown",
      "source": "### Data Wrangling\n\nThe data was formatted in the 'comma seperated vales' in excel, taken directly from the website. Here is where I load the data and assign it to the variable 'df' (for DataFrame). I then print the first few rows of the df to observe the format of the columns as well as their names. I can now decide which ones to keep and trim to add a level of uniformity to the Data Frame.\n\n#### General Properties",
      "metadata": {}
    },
    {
      "cell_type": "code",
      "source": "# Load in the dataFrame (Last updated 17 Dec 2024)\ndf = pd.read_csv('NFLstats.csv')\ndf.head()",
      "metadata": {
        "trusted": true
      },
      "outputs": [
        {
          "execution_count": 3,
          "output_type": "execute_result",
          "data": {
            "text/plain": "   Rk                    Tm   G  RshTD  RecTD  PR TD  KR TD  FblTD  IntTD  \\\n0   1  Los Angeles Chargers  14     13     16    NaN    NaN    NaN    1.0   \n1   2   Philadelphia Eagles  14     26     18    NaN    NaN    NaN    NaN   \n2   3        Denver Broncos  14     10     21    NaN    NaN    2.0    3.0   \n3   4     Minnesota Vikings  14      9     29    NaN    NaN    1.0    2.0   \n4   5    Kansas City Chiefs  14     12     22    NaN    NaN    1.0    NaN   \n\n   OthTD  ...  2PM  2PA  D2P  XPM  XPA  FGM  FGA  Sfty  Pts  Pts/G  \n0    NaN  ...  1.0    2  NaN   25   28   29   31   NaN  294   21.0  \n1    NaN  ...  3.0    6  1.0   37   38   20   26   NaN  369   26.4  \n2    NaN  ...  NaN    1  NaN   35   35   27   30   2.0  336   24.0  \n3    NaN  ...  NaN    1  NaN   39   40   28   32   NaN  369   26.4  \n4    NaN  ...  NaN    1  NaN   32   33   29   33   NaN  329   23.5  \n\n[5 rows x 21 columns]",
            "text/html": "<div>\n<style scoped>\n    .dataframe tbody tr th:only-of-type {\n        vertical-align: middle;\n    }\n\n    .dataframe tbody tr th {\n        vertical-align: top;\n    }\n\n    .dataframe thead th {\n        text-align: right;\n    }\n</style>\n<table border=\"1\" class=\"dataframe\">\n  <thead>\n    <tr style=\"text-align: right;\">\n      <th></th>\n      <th>Rk</th>\n      <th>Tm</th>\n      <th>G</th>\n      <th>RshTD</th>\n      <th>RecTD</th>\n      <th>PR TD</th>\n      <th>KR TD</th>\n      <th>FblTD</th>\n      <th>IntTD</th>\n      <th>OthTD</th>\n      <th>...</th>\n      <th>2PM</th>\n      <th>2PA</th>\n      <th>D2P</th>\n      <th>XPM</th>\n      <th>XPA</th>\n      <th>FGM</th>\n      <th>FGA</th>\n      <th>Sfty</th>\n      <th>Pts</th>\n      <th>Pts/G</th>\n    </tr>\n  </thead>\n  <tbody>\n    <tr>\n      <th>0</th>\n      <td>1</td>\n      <td>Los Angeles Chargers</td>\n      <td>14</td>\n      <td>13</td>\n      <td>16</td>\n      <td>NaN</td>\n      <td>NaN</td>\n      <td>NaN</td>\n      <td>1.0</td>\n      <td>NaN</td>\n      <td>...</td>\n      <td>1.0</td>\n      <td>2</td>\n      <td>NaN</td>\n      <td>25</td>\n      <td>28</td>\n      <td>29</td>\n      <td>31</td>\n      <td>NaN</td>\n      <td>294</td>\n      <td>21.0</td>\n    </tr>\n    <tr>\n      <th>1</th>\n      <td>2</td>\n      <td>Philadelphia Eagles</td>\n      <td>14</td>\n      <td>26</td>\n      <td>18</td>\n      <td>NaN</td>\n      <td>NaN</td>\n      <td>NaN</td>\n      <td>NaN</td>\n      <td>NaN</td>\n      <td>...</td>\n      <td>3.0</td>\n      <td>6</td>\n      <td>1.0</td>\n      <td>37</td>\n      <td>38</td>\n      <td>20</td>\n      <td>26</td>\n      <td>NaN</td>\n      <td>369</td>\n      <td>26.4</td>\n    </tr>\n    <tr>\n      <th>2</th>\n      <td>3</td>\n      <td>Denver Broncos</td>\n      <td>14</td>\n      <td>10</td>\n      <td>21</td>\n      <td>NaN</td>\n      <td>NaN</td>\n      <td>2.0</td>\n      <td>3.0</td>\n      <td>NaN</td>\n      <td>...</td>\n      <td>NaN</td>\n      <td>1</td>\n      <td>NaN</td>\n      <td>35</td>\n      <td>35</td>\n      <td>27</td>\n      <td>30</td>\n      <td>2.0</td>\n      <td>336</td>\n      <td>24.0</td>\n    </tr>\n    <tr>\n      <th>3</th>\n      <td>4</td>\n      <td>Minnesota Vikings</td>\n      <td>14</td>\n      <td>9</td>\n      <td>29</td>\n      <td>NaN</td>\n      <td>NaN</td>\n      <td>1.0</td>\n      <td>2.0</td>\n      <td>NaN</td>\n      <td>...</td>\n      <td>NaN</td>\n      <td>1</td>\n      <td>NaN</td>\n      <td>39</td>\n      <td>40</td>\n      <td>28</td>\n      <td>32</td>\n      <td>NaN</td>\n      <td>369</td>\n      <td>26.4</td>\n    </tr>\n    <tr>\n      <th>4</th>\n      <td>5</td>\n      <td>Kansas City Chiefs</td>\n      <td>14</td>\n      <td>12</td>\n      <td>22</td>\n      <td>NaN</td>\n      <td>NaN</td>\n      <td>1.0</td>\n      <td>NaN</td>\n      <td>NaN</td>\n      <td>...</td>\n      <td>NaN</td>\n      <td>1</td>\n      <td>NaN</td>\n      <td>32</td>\n      <td>33</td>\n      <td>29</td>\n      <td>33</td>\n      <td>NaN</td>\n      <td>329</td>\n      <td>23.5</td>\n    </tr>\n  </tbody>\n</table>\n<p>5 rows × 21 columns</p>\n</div>"
          },
          "metadata": {}
        }
      ],
      "execution_count": 3
    },
    {
      "cell_type": "markdown",
      "source": "### Data characteristics\n\nI will use the 'shape' function to get a sense of how big our data frame is. I am expecting 64 rows (32 teams over 2 seperate seasons).",
      "metadata": {}
    },
    {
      "cell_type": "code",
      "source": "df.shape",
      "metadata": {
        "trusted": true
      },
      "outputs": [
        {
          "execution_count": 4,
          "output_type": "execute_result",
          "data": {
            "text/plain": "(64, 21)"
          },
          "metadata": {}
        }
      ],
      "execution_count": 4
    },
    {
      "cell_type": "markdown",
      "source": "This tells us that our data frame is 64 rows down and 16 columns across. We will be changing this further down.\n\nWe will now start the cleaning process.",
      "metadata": {}
    },
    {
      "cell_type": "code",
      "source": "# Remove rows where all columns are NaN (there shouldn't be any, but just in case there are).\ndf = df.dropna(how='all')",
      "metadata": {
        "trusted": true
      },
      "outputs": [],
      "execution_count": 5
    },
    {
      "cell_type": "markdown",
      "source": "### Data Cleaning\nWith the calculations completed, it's time to clean the data. We removed unnecessary columns and reorganized the remaining ones.",
      "metadata": {}
    },
    {
      "cell_type": "code",
      "source": "team_data = df.groupby('Tm').agg({\n    '2PM': 'sum',\n    '2PA': 'sum',\n    'XPM': 'sum',\n    'XPA': 'sum'\n}).reset_index()\n\nteam_data['2PPerc'] = (team_data['2PM'] / team_data['2PA']) * 100 # 2-point percentage\nteam_data['XPPerc'] = (team_data['XPM'] / team_data['XPA']) * 100 # Extra-point percentage\n\ntotal_2PM = team_data['2PM'].sum()\ntotal_2PA = team_data['2PA'].sum()\ntotal_XPM = team_data['XPM'].sum()\ntotal_XPA = team_data['XPA'].sum()\n\nleague_2P_Percent = (total_2PM / total_2PA) * 100 if total_2PA > 0 else 0\nleague_2P_Percent = round(league_2P_Percent, 2)\nleague_XP_Percent = (total_XPM / total_XPA) * 100 if total_XPA > 0 else 0\nleague_XP_Percent = round(league_XP_Percent, 2)\n\nleague_totals = pd.DataFrame({\n    'Tm': ['League'],\n    '2PM': total_2PM,\n    '2PA': total_2PA,\n    'XPM': total_XPM,\n    'XPA': total_XPA,\n    '2PPerc': [league_2P_Percent],\n    'XPPerc': [league_XP_Percent]\n})\n\n# Assign appropriate dtypes\nleague_totals['2PM'] = league_totals['2PM'].astype(int)  # For total 2PM, you can cast it to int\nleague_totals['2PA'] = league_totals['2PA'].astype(int)  # For total 2PA, you can cast it to int\nleague_totals['XPM'] = league_totals['XPM'].astype(int)  # For total XPM, you can cast it to int\nleague_totals['XPA'] = league_totals['XPA'].astype(int)  # For total XPA, you can cast it to int\nleague_totals['2PPerc'] = league_totals['2PPerc'].astype(float)  # 2-point percentage as float\nleague_totals['XPPerc'] = league_totals['XPPerc'].astype(float)  # Extra-point percentage as float\n\nprint(league_totals)",
      "metadata": {
        "trusted": true
      },
      "outputs": [
        {
          "name": "stdout",
          "text": "       Tm  2PM  2PA   XPM   XPA  2PPerc  XPPerc\n0  League  115  242  2089  2176   47.52    96.0\n",
          "output_type": "stream"
        }
      ],
      "execution_count": 6
    },
    {
      "cell_type": "code",
      "source": "# The column '2PM' is a float and since you can't have fractions of made attempts, we want to switch them to integars.\nteam_data['2PM'] = team_data['2PM'].astype(int)\nprint(team_data['2PM'].dtype)\nprint(team_data.head())",
      "metadata": {
        "trusted": true
      },
      "outputs": [
        {
          "name": "stdout",
          "text": "int32\n                  Tm  2PM  2PA  XPM  XPA     2PPerc     XPPerc\n0  Arizona Cardinals    7   17   50   51  41.176471  98.039216\n1    Atlanta Falcons    4    8   53   54  50.000000  98.148148\n2   Baltimore Ravens    3    5   98  101  60.000000  97.029703\n3      Buffalo Bills    4    5   99  104  80.000000  95.192308\n4  Carolina Panthers    4    6   40   44  66.666667  90.909091\n",
          "output_type": "stream"
        }
      ],
      "execution_count": 7
    },
    {
      "cell_type": "code",
      "source": "team_data.head()",
      "metadata": {
        "trusted": true
      },
      "outputs": [
        {
          "execution_count": 8,
          "output_type": "execute_result",
          "data": {
            "text/plain": "                  Tm  2PM  2PA  XPM  XPA     2PPerc     XPPerc\n0  Arizona Cardinals    7   17   50   51  41.176471  98.039216\n1    Atlanta Falcons    4    8   53   54  50.000000  98.148148\n2   Baltimore Ravens    3    5   98  101  60.000000  97.029703\n3      Buffalo Bills    4    5   99  104  80.000000  95.192308\n4  Carolina Panthers    4    6   40   44  66.666667  90.909091",
            "text/html": "<div>\n<style scoped>\n    .dataframe tbody tr th:only-of-type {\n        vertical-align: middle;\n    }\n\n    .dataframe tbody tr th {\n        vertical-align: top;\n    }\n\n    .dataframe thead th {\n        text-align: right;\n    }\n</style>\n<table border=\"1\" class=\"dataframe\">\n  <thead>\n    <tr style=\"text-align: right;\">\n      <th></th>\n      <th>Tm</th>\n      <th>2PM</th>\n      <th>2PA</th>\n      <th>XPM</th>\n      <th>XPA</th>\n      <th>2PPerc</th>\n      <th>XPPerc</th>\n    </tr>\n  </thead>\n  <tbody>\n    <tr>\n      <th>0</th>\n      <td>Arizona Cardinals</td>\n      <td>7</td>\n      <td>17</td>\n      <td>50</td>\n      <td>51</td>\n      <td>41.176471</td>\n      <td>98.039216</td>\n    </tr>\n    <tr>\n      <th>1</th>\n      <td>Atlanta Falcons</td>\n      <td>4</td>\n      <td>8</td>\n      <td>53</td>\n      <td>54</td>\n      <td>50.000000</td>\n      <td>98.148148</td>\n    </tr>\n    <tr>\n      <th>2</th>\n      <td>Baltimore Ravens</td>\n      <td>3</td>\n      <td>5</td>\n      <td>98</td>\n      <td>101</td>\n      <td>60.000000</td>\n      <td>97.029703</td>\n    </tr>\n    <tr>\n      <th>3</th>\n      <td>Buffalo Bills</td>\n      <td>4</td>\n      <td>5</td>\n      <td>99</td>\n      <td>104</td>\n      <td>80.000000</td>\n      <td>95.192308</td>\n    </tr>\n    <tr>\n      <th>4</th>\n      <td>Carolina Panthers</td>\n      <td>4</td>\n      <td>6</td>\n      <td>40</td>\n      <td>44</td>\n      <td>66.666667</td>\n      <td>90.909091</td>\n    </tr>\n  </tbody>\n</table>\n</div>"
          },
          "metadata": {}
        }
      ],
      "execution_count": 8
    },
    {
      "cell_type": "code",
      "source": "team_data = pd.concat([team_data, league_totals], ignore_index=True)\n\nprint(team_data)\nprint(f'League XPPerc: {league_XP_Percent}%')\nprint(f'League 2PPerc: {league_2P_Percent}%')\nprint(f'League 2PA: {league_totals['2PA']}')\nprint(f'League XPA: {league_totals['XPA']}')",
      "metadata": {
        "trusted": true
      },
      "outputs": [
        {
          "name": "stdout",
          "text": "                       Tm  2PM  2PA   XPM   XPA     2PPerc      XPPerc\n0       Arizona Cardinals    7   17    50    51  41.176471   98.039216\n1         Atlanta Falcons    4    8    53    54  50.000000   98.148148\n2        Baltimore Ravens    3    5    98   101  60.000000   97.029703\n3           Buffalo Bills    4    5    99   104  80.000000   95.192308\n4       Carolina Panthers    4    6    40    44  66.666667   90.909091\n5           Chicago Bears    4   14    51    54  28.571429   94.444444\n6      Cincinnati Bengals    2    4    84    86  50.000000   97.674419\n7        Cleveland Browns   11   17    47    52  64.705882   90.384615\n8          Dallas Cowboys    5    8    75    78  62.500000   96.153846\n9          Denver Broncos    4    8    64    66  50.000000   96.969697\n10          Detroit Lions    3    7   102   107  42.857143   95.327103\n11      Green Bay Packers    4    9    73    78  44.444444   93.589744\n12         Houston Texans    2    9    62    64  22.222222   96.875000\n13     Indianapolis Colts    5    9    61    62  55.555556   98.387097\n14   Jacksonville Jaguars    7   13    56    56  53.846154  100.000000\n15     Kansas City Chiefs    0    2    70    71   0.000000   98.591549\n16      Las Vegas Raiders    4    8    51    52  50.000000   98.076923\n17   Los Angeles Chargers    2    3    60    63  66.666667   95.238095\n18       Los Angeles Rams    4    9    61    69  44.444444   88.405797\n19         Miami Dolphins    2    7    78    81  28.571429   96.296296\n20      Minnesota Vikings    1    2    75    78  50.000000   96.153846\n21   New England Patriots    3    6    43    45  50.000000   95.555556\n22     New Orleans Saints    5    8    69    71  62.500000   97.183099\n23        New York Giants    2   11    38    40  18.181818   95.000000\n24          New York Jets    6   10    41    44  60.000000   93.181818\n25    Philadelphia Eagles    4    8    82    84  50.000000   97.619048\n26    Pittsburgh Steelers    1    5    57    58  20.000000   98.275862\n27    San Francisco 49ers    0    2    89    91   0.000000   97.802198\n28       Seattle Seahawks    2    5    64    67  40.000000   95.522388\n29   Tampa Bay Buccaneers    3    7    75    77  42.857143   97.402597\n30       Tennessee Titans    1    2    53    55  50.000000   96.363636\n31  Washington Commanders    6    8    68    73  75.000000   93.150685\n32                 League  115  242  2089  2176  47.520000   96.000000\nLeague XPPerc: 96.0%\nLeague 2PPerc: 47.52%\nLeague 2PA: 0    242\nName: 2PA, dtype: int32\nLeague XPA: 0    2176\nName: XPA, dtype: int32\n",
          "output_type": "stream"
        }
      ],
      "execution_count": 9
    },
    {
      "cell_type": "code",
      "source": "# save the new df (team_data)\nteam_data.to_csv('clean_data.csv', index=False)",
      "metadata": {
        "trusted": true
      },
      "outputs": [],
      "execution_count": 10
    },
    {
      "cell_type": "markdown",
      "source": "That finished up the data cleaning process. Now we can load the new csv 'clean_data.csv' whenever we want to run different models or matrixs",
      "metadata": {}
    },
    {
      "cell_type": "code",
      "source": "",
      "metadata": {
        "trusted": true
      },
      "outputs": [],
      "execution_count": null
    }
  ]
}